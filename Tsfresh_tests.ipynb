{
 "cells": [
  {
   "cell_type": "markdown",
   "source": [
    "# Test tsfresh"
   ],
   "metadata": {
    "collapsed": false,
    "pycharm": {
     "name": "#%% md\n"
    }
   }
  },
  {
   "cell_type": "code",
   "execution_count": 6,
   "metadata": {
    "pycharm": {
     "is_executing": false
    }
   },
   "outputs": [
    {
     "traceback": [
      "\u001b[0;31m---------------------------------------------------------------------------\u001b[0m",
      "\u001b[0;31mRuntimeError\u001b[0m                              Traceback (most recent call last)",
      "\u001b[0;32m<ipython-input-6-2a62d74aadbe>\u001b[0m in \u001b[0;36m<module>\u001b[0;34m\u001b[0m\n\u001b[1;32m      1\u001b[0m \u001b[0;32mfrom\u001b[0m \u001b[0mtsfresh\u001b[0m\u001b[0;34m.\u001b[0m\u001b[0mexamples\u001b[0m\u001b[0;34m.\u001b[0m\u001b[0mrobot_execution_failures\u001b[0m \u001b[0;32mimport\u001b[0m \u001b[0mdownload_robot_execution_failures\u001b[0m\u001b[0;34m,\u001b[0m\u001b[0;31m \u001b[0m\u001b[0;31m\\\u001b[0m\u001b[0;34m\u001b[0m\u001b[0;34m\u001b[0m\u001b[0m\n\u001b[1;32m      2\u001b[0m     \u001b[0mload_robot_execution_failures\u001b[0m\u001b[0;34m\u001b[0m\u001b[0;34m\u001b[0m\u001b[0m\n\u001b[0;32m----> 3\u001b[0;31m \u001b[0mdownload_robot_execution_failures\u001b[0m\u001b[0;34m(\u001b[0m\u001b[0;34m)\u001b[0m\u001b[0;34m\u001b[0m\u001b[0;34m\u001b[0m\u001b[0m\n\u001b[0m\u001b[1;32m      4\u001b[0m \u001b[0mtimeseries\u001b[0m\u001b[0;34m,\u001b[0m \u001b[0my\u001b[0m \u001b[0;34m=\u001b[0m \u001b[0mload_robot_execution_failures\u001b[0m\u001b[0;34m(\u001b[0m\u001b[0;34m)\u001b[0m\u001b[0;34m\u001b[0m\u001b[0;34m\u001b[0m\u001b[0m\n\u001b[1;32m      5\u001b[0m \u001b[0;34m\u001b[0m\u001b[0m\n",
      "\u001b[0;32m/usr/local/lib/python3.7/dist-packages/tsfresh/examples/robot_execution_failures.py\u001b[0m in \u001b[0;36mdownload_robot_execution_failures\u001b[0;34m()\u001b[0m\n\u001b[1;32m     57\u001b[0m \u001b[0;34m\u001b[0m\u001b[0m\n\u001b[1;32m     58\u001b[0m     \u001b[0;32mif\u001b[0m \u001b[0;32mnot\u001b[0m \u001b[0mos\u001b[0m\u001b[0;34m.\u001b[0m\u001b[0maccess\u001b[0m\u001b[0;34m(\u001b[0m\u001b[0mmodule_path\u001b[0m\u001b[0;34m,\u001b[0m \u001b[0mos\u001b[0m\u001b[0;34m.\u001b[0m\u001b[0mW_OK\u001b[0m\u001b[0;34m)\u001b[0m\u001b[0;34m:\u001b[0m\u001b[0;34m\u001b[0m\u001b[0;34m\u001b[0m\u001b[0m\n\u001b[0;32m---> 59\u001b[0;31m         raise RuntimeError(\"You don't have the necessary permissions to download the Robot Execution Failures LP1 Data \"\n\u001b[0m\u001b[1;32m     60\u001b[0m                            \u001b[0;34m\"Set into the module path. Consider installing the module in a virtualenv you \"\u001b[0m\u001b[0;34m\u001b[0m\u001b[0;34m\u001b[0m\u001b[0m\n\u001b[1;32m     61\u001b[0m                            \"own or run this function with appropriate permissions.\")\n",
      "\u001b[0;31mRuntimeError\u001b[0m: You don't have the necessary permissions to download the Robot Execution Failures LP1 Data Set into the module path. Consider installing the module in a virtualenv you own or run this function with appropriate permissions."
     ],
     "ename": "RuntimeError",
     "evalue": "You don't have the necessary permissions to download the Robot Execution Failures LP1 Data Set into the module path. Consider installing the module in a virtualenv you own or run this function with appropriate permissions.",
     "output_type": "error"
    }
   ],
   "source": [
    "from tsfresh.examples.robot_execution_failures import download_robot_execution_failures, \\\n",
    "    load_robot_execution_failures\n",
    "download_robot_execution_failures()\n",
    "timeseries, y = load_robot_execution_failures()"
   ]
  },
  {
   "cell_type": "code",
   "execution_count": null,
   "metadata": {
    "pycharm": {
     "is_executing": false
    }
   },
   "outputs": [],
   "source": [
    "print(timeseries.head())"
   ]
  },
  {
   "cell_type": "code",
   "execution_count": null,
   "metadata": {
    "pycharm": {
     "is_executing": false
    }
   },
   "outputs": [],
   "source": [
    "import matplotlib.pyplot as plt\n",
    "timeseries[timeseries['id'] == 3].plot(subplots=True, sharex=True, figsize=(10,10))\n",
    "plt.show()"
   ]
  },
  {
   "cell_type": "code",
   "execution_count": null,
   "metadata": {
    "pycharm": {
     "is_executing": false
    }
   },
   "outputs": [],
   "source": [
    "timeseries[timeseries['id'] == 21].plot(subplots=True, sharex=True, figsize=(10,10))\n",
    "plt.show()"
   ]
  },
  {
   "cell_type": "code",
   "execution_count": null,
   "metadata": {
    "pycharm": {
     "is_executing": false
    }
   },
   "outputs": [],
   "source": [
    "from tsfresh import extract_features\n",
    "extracted_features = extract_features(timeseries, column_id=\"id\", column_sort=\"time\")"
   ]
  },
  {
   "cell_type": "code",
   "execution_count": null,
   "metadata": {
    "pycharm": {
     "is_executing": false
    }
   },
   "outputs": [],
   "source": [
    "extracted_features"
   ]
  },
  {
   "cell_type": "code",
   "execution_count": null,
   "metadata": {
    "pycharm": {
     "is_executing": false
    }
   },
   "outputs": [],
   "source": [
    "from tsfresh import select_features\n",
    "from tsfresh.utilities.dataframe_functions import impute\n",
    "\n",
    "impute(extracted_features)\n",
    "features_filtered = select_features(extracted_features, y)"
   ]
  },
  {
   "cell_type": "code",
   "execution_count": null,
   "metadata": {
    "pycharm": {
     "is_executing": false
    }
   },
   "outputs": [],
   "source": [
    "from tsfresh import extract_relevant_features\n",
    "\n",
    "features_filtered_direct = extract_relevant_features(timeseries, y,\n",
    "                                                     column_id='id', column_sort='time')"
   ]
  },
  {
   "cell_type": "code",
   "execution_count": null,
   "metadata": {
    "pycharm": {
     "is_executing": false
    }
   },
   "outputs": [],
   "source": [
    "features_filtered_direct"
   ]
  },
  {
   "cell_type": "code",
   "execution_count": null,
   "metadata": {
    "pycharm": {
     "is_executing": false
    }
   },
   "outputs": [],
   "source": [
    "from sklearn.cluster import KMeans\n",
    "\n",
    "kmeans = KMeans(n_clusters=3).fit(features_filtered_direct)\n",
    "centroids = kmeans.cluster_centers_\n",
    "print(centroids)\n",
    "\n",
    "plt.scatter(features_filtered_direct[\"F_x__abs_energy\"],features_filtered_direct[\"F_y__abs_energy\"], c= kmeans.labels_.astype(float), s=50, alpha=0.5)\n",
    "plt.scatter(centroids[:, 0], centroids[:, 1], c='red', s=50)"
   ]
  },
  {
   "cell_type": "code",
   "execution_count": null,
   "metadata": {
    "pycharm": {
     "is_executing": false
    }
   },
   "outputs": [],
   "source": []
  },
  {
   "cell_type": "code",
   "execution_count": null,
   "metadata": {
    "pycharm": {
     "is_executing": false
    }
   },
   "outputs": [],
   "source": [
    "import numpy as np\n",
    "import seaborn as sns\n",
    "import pandas as pd\n",
    "from scipy import stats\n",
    "import scipy.cluster.hierarchy as hac\n",
    "import matplotlib.pyplot as plt\n",
    "from scipy.cluster.hierarchy import fcluster\n",
    "import typing\n",
    "\n",
    "\n",
    "def plot_dendogram(clust):\n",
    "    plt.figure(figsize=(25, 10))\n",
    "    plt.title(\"Hierarchical Clustering Dendrogram\")\n",
    "    plt.xlabel(\"sample index\")\n",
    "    plt.ylabel(\"distance\")\n",
    "    hac.dendrogram(\n",
    "        clust,\n",
    "        leaf_rotation=90.0,  # rotates the x axis labels\n",
    "        leaf_font_size=8,  # font size for the x axis labels\n",
    "    )\n",
    "    plt.show()\n",
    "\n",
    "\n",
    "def spearman_metric(x, y):\n",
    "    r = stats.pearsonr(x, y)[0]\n",
    "    return 1 - r  # correlation to distance: range 0 to 2\n",
    "\n",
    "\n",
    "def clusterize(tss: pd.DataFrame, metric: typing.Callable = \"correlation\"):\n",
    "    return hac.linkage(tss, method=\"single\", metric=metric)\n",
    "\n",
    "\n",
    "def print_clusters(tss, Z, k, plot=False):\n",
    "    # k Number of clusters I'd like to extract\n",
    "    results = fcluster(Z, k, criterion=\"maxclust\")\n",
    "\n",
    "    # check the results\n",
    "    s = pd.Series(results)\n",
    "    clusters = s.unique()\n",
    "\n",
    "    for clust in clusters:\n",
    "        cluster_indeces = s[s == clust].index\n",
    "        print(\n",
    "            f\"Cluster {clust} number of entries {len(cluster_indeces)} : {list(cluster_indeces)}\"\n",
    "        )\n",
    "        if plot:\n",
    "            tss.T.iloc[:, cluster_indeces].plot()\n",
    "            plt.show()\n",
    "\n",
    "\n",
    "def build_test_dataframe(n) -> pd.DataFrame():\n",
    "    x = np.linspace(0, 5, n)\n",
    "    scale = 4\n",
    "\n",
    "    a = scale * np.sin(x)\n",
    "    b = scale * (np.cos(1 + x * 3) + np.linspace(0, 1, n))\n",
    "    c = scale * (np.sin(2 + x * 6) + np.linspace(0, -1, n))\n",
    "    d = scale * (np.cos(3 + x * 9) + np.linspace(0, 4, n))\n",
    "    e = scale * (np.sin(4 + x * 12) + np.linspace(0, -4, n))\n",
    "    f = scale * np.cos(x)\n",
    "\n",
    "    #\n",
    "    # from each main series build 'group_size' series\n",
    "    #\n",
    "\n",
    "    return pd.DataFrame([a, b, c, d, e, f])\n",
    "\n"
   ]
  },
  {
   "cell_type": "code",
   "execution_count": null,
   "metadata": {
    "pycharm": {
     "is_executing": false
    }
   },
   "outputs": [],
   "source": [
    "cluster = clusterize(features_filtered_direct)\n",
    "plot_dendogram(cluster)\n",
    "print_clusters(features_filtered_direct, cluster, 7, plot=True)"
   ]
  },
  {
   "cell_type": "code",
   "execution_count": null,
   "metadata": {
    "pycharm": {
     "is_executing": false
    }
   },
   "outputs": [],
   "source": []
  }
 ],
 "metadata": {
  "kernelspec": {
   "display_name": "Python 3",
   "language": "python",
   "name": "python3"
  },
  "language_info": {
   "codemirror_mode": {
    "name": "ipython",
    "version": 3
   },
   "file_extension": ".py",
   "mimetype": "text/x-python",
   "name": "python",
   "nbconvert_exporter": "python",
   "pygments_lexer": "ipython3",
   "version": "3.7.3"
  },
  "pycharm": {
   "stem_cell": {
    "cell_type": "raw",
    "source": [],
    "metadata": {
     "collapsed": false
    }
   }
  }
 },
 "nbformat": 4,
 "nbformat_minor": 2
}